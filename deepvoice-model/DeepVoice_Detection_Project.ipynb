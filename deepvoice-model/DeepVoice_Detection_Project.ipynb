{
  "cells": [
    {
      "cell_type": "code",
      "execution_count": null,
      "metadata": {
        "colab": {
          "base_uri": "https://localhost:8080/"
        },
        "id": "-2xS__SMKVUo",
        "outputId": "011ad891-02d4-48a1-c9d2-cdbe8c3d703b"
      },
      "outputs": [
        {
          "output_type": "stream",
          "name": "stdout",
          "text": [
            "Drive already mounted at /content/drive; to attempt to forcibly remount, call drive.mount(\"/content/drive\", force_remount=True).\n"
          ]
        }
      ],
      "source": [
        "from google.colab import drive\n",
        "drive.mount('/content/drive')"
      ]
    },
    {
      "cell_type": "code",
      "execution_count": null,
      "metadata": {
        "colab": {
          "base_uri": "https://localhost:8080/"
        },
        "id": "EBc5YvfQWkc8",
        "outputId": "aa00dc7c-dbf4-4342-fad6-09532c2bcbc2"
      },
      "outputs": [
        {
          "name": "stdout",
          "output_type": "stream",
          "text": [
            "Requirement already satisfied: tqdm in /usr/local/lib/python3.11/dist-packages (4.67.1)\n"
          ]
        }
      ],
      "source": [
        "!pip install tqdm"
      ]
    },
    {
      "cell_type": "code",
      "execution_count": null,
      "metadata": {
        "id": "OoyJzNKKKfkc"
      },
      "outputs": [],
      "source": [
        "base_path = '/content/drive/MyDrive/Deepvoice_Detection_Dataset'"
      ]
    },
    {
      "cell_type": "code",
      "execution_count": null,
      "metadata": {
        "colab": {
          "base_uri": "https://localhost:8080/"
        },
        "id": "FAb2MzkysPKw",
        "outputId": "d9f43706-5ab4-4596-ea45-4c6a37e5d9d1"
      },
      "outputs": [
        {
          "name": "stdout",
          "output_type": "stream",
          "text": [
            "ASVspoof2019.LA.cm.dev.trl.txt\t ASVspoof2019.LA.cm.train.trn.txt\n",
            "ASVspoof2019.LA.cm.eval.trl.txt\n",
            "LA_T_1000137.flac\n",
            "LA_T_1000406.flac\n",
            "LA_T_1000648.flac\n",
            "LA_T_1000824.flac\n",
            "LA_T_1001074.flac\n",
            "LA_T_1001114.flac\n",
            "LA_T_1001169.flac\n",
            "LA_T_1001718.flac\n",
            "LA_T_1001871.flac\n",
            "LA_T_1002656.flac\n"
          ]
        }
      ],
      "source": [
        "!ls /content/drive/MyDrive/Deepvoice_Detection_Dataset/ASVspoof2019_LA_cm_protocols/\n",
        "!ls /content/drive/MyDrive/Deepvoice_Detection_Dataset/flac | head"
      ]
    },
    {
      "cell_type": "code",
      "execution_count": null,
      "metadata": {
        "id": "FmaiWG-SiCZC"
      },
      "outputs": [],
      "source": [
        "# 필요한 라이브러리 정리\n",
        "\n",
        "import pandas as pd\n",
        "import os\n",
        "import librosa\n",
        "import numpy as np\n",
        "import torch\n",
        "import torch.nn as nn\n",
        "import torch.nn.functional as F\n",
        "import glob\n",
        "import torchaudio\n",
        "import random\n",
        "\n",
        "from torch.utils.data import random_split\n",
        "from torch.utils.data import Dataset\n",
        "from torch.utils.data import DataLoader\n",
        "from tqdm import tqdm\n",
        "\n",
        "from sklearn.metrics import classification_report\n",
        "from sklearn.model_selection import train_test_split\n",
        "from sklearn.metrics import f1_score, roc_auc_score, confusion_matrix, ConfusionMatrixDisplay\n",
        "\n",
        "import matplotlib.pyplot as plt\n"
      ]
    },
    {
      "cell_type": "code",
      "execution_count": null,
      "metadata": {
        "id": "dH-q6Yf8czQb"
      },
      "outputs": [],
      "source": [
        "device = torch.device('cuda' if torch.cuda.is_available() else 'cpu')"
      ]
    },
    {
      "cell_type": "code",
      "execution_count": null,
      "metadata": {
        "id": "3iylbbXyUcBf"
      },
      "outputs": [],
      "source": [
        "# Step 0. 데이터 분석 및 처리\n",
        "# 1. Train 데이터셋과 Eval 데이터셋 합치기\n",
        "\n",
        "# 2. 합친 데이터셋에서 8:2 비율로 나누기\n",
        "\n",
        "# 3. 8은 학습에 사용하고 2는 평가에 사용하기 (train, test)\n",
        "\n",
        "# 프로토콜 경로\n",
        "train_protocol_path = os.path.join(base_path, 'ASVspoof2019_LA_cm_protocols', 'ASVspoof2019.LA.cm.train.trn.txt')\n",
        "eval_protocol_path = os.path.join(base_path, 'ASVspoof2019_LA_cm_protocols', 'ASVspoof2019.LA.cm.eval.trl.txt')\n",
        "\n",
        "# 프로토콜 불러오기\n",
        "columns = ['speaker_id', 'file_id', 'system_id', 'attack_type', 'label']\n",
        "df_train = pd.read_csv(train_protocol_path, sep='\\s+', header=None, names=columns)\n",
        "df_eval = pd.read_csv(eval_protocol_path, sep='\\s+', header=None, names=columns)\n",
        "\n",
        "# 병합\n",
        "df_all = pd.concat([df_train, df_eval], ignore_index=True)\n",
        "\n",
        "# stratified 8:2 분할\n",
        "train_set, test_set = train_test_split(\n",
        "    df_all,\n",
        "    test_size=0.2,\n",
        "    stratify=df_all['label'],\n",
        "    random_state=42\n",
        ")\n",
        "\n",
        "# 결과 저장\n",
        "train_output = os.path.join(base_path, 'ASVspoof2019_LA_cm_protocols', 'custom_protocol_train.txt')\n",
        "test_output = os.path.join(base_path, 'ASVspoof2019_LA_cm_protocols', 'custom_protocol_test.txt')\n",
        "\n",
        "train_set.to_csv(train_output, sep=' ', header=False, index=False)\n",
        "test_set.to_csv(test_output, sep=' ', header=False, index=False)\n"
      ]
    },
    {
      "cell_type": "code",
      "execution_count": null,
      "metadata": {
        "id": "O0AJDYFrKhnm"
      },
      "outputs": [],
      "source": [
        "# Step 1. custom_protocol_train.txt 불러오기\n",
        "\n",
        "# 사용자 정의 protocol 불러오기\n",
        "train_df = pd.read_csv(train_output, sep='\\s+', header=None, names=['speaker_id', 'file_id', 'system_id', 'attack_type', 'label'])\n",
        "\n",
        "# 라벨 숫자로 변환\n",
        "train_df['label_binary'] = train_df['label'].map({'bonafide': 0, 'spoof': 1})\n",
        "\n",
        "# 경로 설정 (train + eval 모두 대상이므로 두 경로 설정)\n",
        "flac_dirs = [\n",
        "    '/content/drive/MyDrive/Deepvoice_Detection_Dataset/flac',\n",
        "    '/content/drive/MyDrive/Deepvoice_Detection_Dataset/ASVspoof2019_LA_eval/flac'\n",
        "]\n",
        "\n",
        "def find_flac_path(file_id):\n",
        "    for base in flac_dirs:\n",
        "        full_path = os.path.join(base, file_id + '.flac')\n",
        "        if os.path.exists(full_path):\n",
        "            return full_path\n",
        "    return None\n",
        "\n",
        "train_df['file_path'] = train_df['file_id'].apply(find_flac_path)\n",
        "train_df = train_df[train_df['file_path'].notnull()]\n"
      ]
    },
    {
      "cell_type": "code",
      "execution_count": null,
      "metadata": {
        "id": "gcx_7QhhLC6m"
      },
      "outputs": [],
      "source": [
        "# Step 2. 데이터 전처리\n",
        "# > 데이터 증강\n",
        "# > bonafide만 증강해서 mel 변환, spoof는 그대로 mel 변환\n",
        "\n",
        "def augment_waveform(path):\n",
        "    waveform, sr = torchaudio.load(path)\n",
        "\n",
        "    if random.random() < 0.5:\n",
        "        speed = random.choice([0.9, 1.1])\n",
        "        new_sr = int(sr * speed)\n",
        "        waveform = torchaudio.functional.resample(waveform, sr, new_sr)\n",
        "        waveform = torchaudio.functional.resample(waveform, new_sr, sr)\n",
        "\n",
        "    if random.random() < 0.5:\n",
        "        noise = 0.005 * torch.randn_like(waveform)\n",
        "        waveform += noise\n",
        "\n",
        "    return waveform\n",
        "\n",
        "def extract_mel_from_waveform(waveform, sr=16000, n_mels=80, fixed_length=400):\n",
        "    mel = torchaudio.transforms.MelSpectrogram(sample_rate=sr, n_mels=n_mels)(waveform)\n",
        "    mel_db = torchaudio.transforms.AmplitudeToDB()(mel)\n",
        "    mel_np = mel_db.squeeze(0).numpy()\n",
        "\n",
        "    # Padding or Trimming\n",
        "    if mel_np.shape[1] < fixed_length:\n",
        "        pad_width = fixed_length - mel_np.shape[1]\n",
        "        mel_np = np.pad(mel_np, ((0, 0), (0, pad_width)), mode='constant')\n",
        "    else:\n",
        "        mel_np = mel_np[:, :fixed_length]\n",
        "\n",
        "    # ✅ z-score 정규화\n",
        "    mel_np = (mel_np - mel_np.mean()) / (mel_np.std() + 1e-6)\n",
        "\n",
        "    return mel_np\n"
      ]
    },
    {
      "cell_type": "code",
      "execution_count": null,
      "metadata": {
        "colab": {
          "base_uri": "https://localhost:8080/"
        },
        "id": "s464zgueLK7f",
        "outputId": "2bd4a7ed-76b4-4009-d0cd-b56f471c9ecf"
      },
      "outputs": [
        {
          "name": "stderr",
          "output_type": "stream",
          "text": [
            "🔄 train mel 생성:   3%|▎         | 2011/77293 [00:34<4:22:26,  4.78it/s]"
          ]
        },
        {
          "name": "stdout",
          "output_type": "stream",
          "text": [
            "✅ 저장 완료: batch 0 → /content/drive/MyDrive/Deepvoice_Detection_Dataset/train_aug/train_data_batch_0.npy (2000개 샘플)\n"
          ]
        },
        {
          "name": "stderr",
          "output_type": "stream",
          "text": [
            "🔄 train mel 생성:   5%|▌         | 4003/77293 [01:14<5:50:40,  3.48it/s]"
          ]
        },
        {
          "name": "stdout",
          "output_type": "stream",
          "text": [
            "✅ 저장 완료: batch 1 → /content/drive/MyDrive/Deepvoice_Detection_Dataset/train_aug/train_data_batch_1.npy (2000개 샘플)\n"
          ]
        },
        {
          "name": "stderr",
          "output_type": "stream",
          "text": [
            "🔄 train mel 생성:   8%|▊         | 6011/77293 [01:57<4:00:07,  4.95it/s]"
          ]
        },
        {
          "name": "stdout",
          "output_type": "stream",
          "text": [
            "✅ 저장 완료: batch 2 → /content/drive/MyDrive/Deepvoice_Detection_Dataset/train_aug/train_data_batch_2.npy (2000개 샘플)\n"
          ]
        },
        {
          "name": "stderr",
          "output_type": "stream",
          "text": [
            "🔄 train mel 생성:  10%|█         | 8008/77293 [02:37<3:39:56,  5.25it/s]"
          ]
        },
        {
          "name": "stdout",
          "output_type": "stream",
          "text": [
            "✅ 저장 완료: batch 3 → /content/drive/MyDrive/Deepvoice_Detection_Dataset/train_aug/train_data_batch_3.npy (2000개 샘플)\n"
          ]
        },
        {
          "name": "stderr",
          "output_type": "stream",
          "text": [
            "🔄 train mel 생성:  13%|█▎        | 10009/77293 [03:17<3:32:21,  5.28it/s]"
          ]
        },
        {
          "name": "stdout",
          "output_type": "stream",
          "text": [
            "✅ 저장 완료: batch 4 → /content/drive/MyDrive/Deepvoice_Detection_Dataset/train_aug/train_data_batch_4.npy (2000개 샘플)\n"
          ]
        },
        {
          "name": "stderr",
          "output_type": "stream",
          "text": [
            "🔄 train mel 생성:  16%|█▌        | 12008/77293 [03:59<3:34:50,  5.06it/s]"
          ]
        },
        {
          "name": "stdout",
          "output_type": "stream",
          "text": [
            "✅ 저장 완료: batch 5 → /content/drive/MyDrive/Deepvoice_Detection_Dataset/train_aug/train_data_batch_5.npy (2000개 샘플)\n"
          ]
        },
        {
          "name": "stderr",
          "output_type": "stream",
          "text": [
            "🔄 train mel 생성:  18%|█▊        | 14000/77293 [09:53<43:19:12,  2.46s/it]"
          ]
        },
        {
          "name": "stdout",
          "output_type": "stream",
          "text": [
            "✅ 저장 완료: batch 6 → /content/drive/MyDrive/Deepvoice_Detection_Dataset/train_aug/train_data_batch_6.npy (2000개 샘플)\n"
          ]
        },
        {
          "name": "stderr",
          "output_type": "stream",
          "text": [
            "🔄 train mel 생성:  21%|██        | 16000/77293 [18:35<42:24:23,  2.49s/it]"
          ]
        },
        {
          "name": "stdout",
          "output_type": "stream",
          "text": [
            "✅ 저장 완료: batch 7 → /content/drive/MyDrive/Deepvoice_Detection_Dataset/train_aug/train_data_batch_7.npy (2000개 샘플)\n"
          ]
        },
        {
          "name": "stderr",
          "output_type": "stream",
          "text": [
            "🔄 train mel 생성:  23%|██▎       | 18000/77293 [27:07<41:08:45,  2.50s/it]"
          ]
        },
        {
          "name": "stdout",
          "output_type": "stream",
          "text": [
            "✅ 저장 완료: batch 8 → /content/drive/MyDrive/Deepvoice_Detection_Dataset/train_aug/train_data_batch_8.npy (2000개 샘플)\n"
          ]
        },
        {
          "name": "stderr",
          "output_type": "stream",
          "text": [
            "🔄 train mel 생성:  26%|██▌       | 20000/77293 [35:42<40:00:14,  2.51s/it]"
          ]
        },
        {
          "name": "stdout",
          "output_type": "stream",
          "text": [
            "✅ 저장 완료: batch 9 → /content/drive/MyDrive/Deepvoice_Detection_Dataset/train_aug/train_data_batch_9.npy (2000개 샘플)\n"
          ]
        },
        {
          "name": "stderr",
          "output_type": "stream",
          "text": [
            "🔄 train mel 생성:  28%|██▊       | 22000/77293 [44:21<37:26:55,  2.44s/it]"
          ]
        },
        {
          "name": "stdout",
          "output_type": "stream",
          "text": [
            "✅ 저장 완료: batch 10 → /content/drive/MyDrive/Deepvoice_Detection_Dataset/train_aug/train_data_batch_10.npy (2000개 샘플)\n"
          ]
        },
        {
          "name": "stderr",
          "output_type": "stream",
          "text": [
            "🔄 train mel 생성:  31%|███       | 24000/77293 [53:05<36:11:55,  2.45s/it]"
          ]
        },
        {
          "name": "stdout",
          "output_type": "stream",
          "text": [
            "✅ 저장 완료: batch 11 → /content/drive/MyDrive/Deepvoice_Detection_Dataset/train_aug/train_data_batch_11.npy (2000개 샘플)\n"
          ]
        },
        {
          "name": "stderr",
          "output_type": "stream",
          "text": [
            "🔄 train mel 생성:  34%|███▎      | 26001/77293 [1:02:20<25:21:04,  1.78s/it]"
          ]
        },
        {
          "name": "stdout",
          "output_type": "stream",
          "text": [
            "✅ 저장 완료: batch 12 → /content/drive/MyDrive/Deepvoice_Detection_Dataset/train_aug/train_data_batch_12.npy (2000개 샘플)\n"
          ]
        },
        {
          "name": "stderr",
          "output_type": "stream",
          "text": [
            "🔄 train mel 생성:  36%|███▌      | 28000/77293 [1:11:03<33:54:22,  2.48s/it]"
          ]
        },
        {
          "name": "stdout",
          "output_type": "stream",
          "text": [
            "✅ 저장 완료: batch 13 → /content/drive/MyDrive/Deepvoice_Detection_Dataset/train_aug/train_data_batch_13.npy (2000개 샘플)\n"
          ]
        },
        {
          "name": "stderr",
          "output_type": "stream",
          "text": [
            "🔄 train mel 생성:  39%|███▉      | 30000/77293 [1:19:44<32:55:23,  2.51s/it]"
          ]
        },
        {
          "name": "stdout",
          "output_type": "stream",
          "text": [
            "✅ 저장 완료: batch 14 → /content/drive/MyDrive/Deepvoice_Detection_Dataset/train_aug/train_data_batch_14.npy (2000개 샘플)\n"
          ]
        },
        {
          "name": "stderr",
          "output_type": "stream",
          "text": [
            "🔄 train mel 생성:  41%|████▏     | 32000/77293 [1:28:17<31:52:34,  2.53s/it]"
          ]
        },
        {
          "name": "stdout",
          "output_type": "stream",
          "text": [
            "✅ 저장 완료: batch 15 → /content/drive/MyDrive/Deepvoice_Detection_Dataset/train_aug/train_data_batch_15.npy (2000개 샘플)\n"
          ]
        },
        {
          "name": "stderr",
          "output_type": "stream",
          "text": [
            "🔄 train mel 생성:  44%|████▍     | 34000/77293 [1:36:50<29:41:26,  2.47s/it]"
          ]
        },
        {
          "name": "stdout",
          "output_type": "stream",
          "text": [
            "✅ 저장 완료: batch 16 → /content/drive/MyDrive/Deepvoice_Detection_Dataset/train_aug/train_data_batch_16.npy (2000개 샘플)\n"
          ]
        },
        {
          "name": "stderr",
          "output_type": "stream",
          "text": [
            "🔄 train mel 생성:  47%|████▋     | 36000/77293 [1:45:28<28:43:14,  2.50s/it]"
          ]
        },
        {
          "name": "stdout",
          "output_type": "stream",
          "text": [
            "✅ 저장 완료: batch 17 → /content/drive/MyDrive/Deepvoice_Detection_Dataset/train_aug/train_data_batch_17.npy (2000개 샘플)\n"
          ]
        },
        {
          "name": "stderr",
          "output_type": "stream",
          "text": [
            "🔄 train mel 생성:  49%|████▉     | 38000/77293 [1:54:11<27:01:13,  2.48s/it]"
          ]
        },
        {
          "name": "stdout",
          "output_type": "stream",
          "text": [
            "✅ 저장 완료: batch 18 → /content/drive/MyDrive/Deepvoice_Detection_Dataset/train_aug/train_data_batch_18.npy (2000개 샘플)\n"
          ]
        },
        {
          "name": "stderr",
          "output_type": "stream",
          "text": [
            "🔄 train mel 생성:  52%|█████▏    | 40000/77293 [2:02:52<25:40:32,  2.48s/it]"
          ]
        },
        {
          "name": "stdout",
          "output_type": "stream",
          "text": [
            "✅ 저장 완료: batch 19 → /content/drive/MyDrive/Deepvoice_Detection_Dataset/train_aug/train_data_batch_19.npy (2000개 샘플)\n"
          ]
        },
        {
          "name": "stderr",
          "output_type": "stream",
          "text": [
            "🔄 train mel 생성:  54%|█████▍    | 42000/77293 [2:11:24<30:32:02,  3.11s/it]"
          ]
        },
        {
          "name": "stdout",
          "output_type": "stream",
          "text": [
            "✅ 저장 완료: batch 20 → /content/drive/MyDrive/Deepvoice_Detection_Dataset/train_aug/train_data_batch_20.npy (2000개 샘플)\n"
          ]
        },
        {
          "name": "stderr",
          "output_type": "stream",
          "text": [
            "🔄 train mel 생성:  57%|█████▋    | 44000/77293 [2:20:00<22:23:56,  2.42s/it]"
          ]
        },
        {
          "name": "stdout",
          "output_type": "stream",
          "text": [
            "✅ 저장 완료: batch 21 → /content/drive/MyDrive/Deepvoice_Detection_Dataset/train_aug/train_data_batch_21.npy (2000개 샘플)\n"
          ]
        },
        {
          "name": "stderr",
          "output_type": "stream",
          "text": [
            "🔄 train mel 생성:  60%|█████▉    | 46000/77293 [2:28:33<21:57:17,  2.53s/it]"
          ]
        },
        {
          "name": "stdout",
          "output_type": "stream",
          "text": [
            "✅ 저장 완료: batch 22 → /content/drive/MyDrive/Deepvoice_Detection_Dataset/train_aug/train_data_batch_22.npy (2000개 샘플)\n"
          ]
        },
        {
          "name": "stderr",
          "output_type": "stream",
          "text": [
            "🔄 train mel 생성:  62%|██████▏   | 48000/77293 [2:37:24<19:08:48,  2.35s/it]"
          ]
        },
        {
          "name": "stdout",
          "output_type": "stream",
          "text": [
            "✅ 저장 완료: batch 23 → /content/drive/MyDrive/Deepvoice_Detection_Dataset/train_aug/train_data_batch_23.npy (2000개 샘플)\n"
          ]
        },
        {
          "name": "stderr",
          "output_type": "stream",
          "text": [
            "🔄 train mel 생성:  65%|██████▍   | 50000/77293 [2:46:03<18:46:52,  2.48s/it]"
          ]
        },
        {
          "name": "stdout",
          "output_type": "stream",
          "text": [
            "✅ 저장 완료: batch 24 → /content/drive/MyDrive/Deepvoice_Detection_Dataset/train_aug/train_data_batch_24.npy (2000개 샘플)\n"
          ]
        },
        {
          "name": "stderr",
          "output_type": "stream",
          "text": [
            "🔄 train mel 생성:  67%|██████▋   | 52000/77293 [2:54:40<17:55:56,  2.55s/it]"
          ]
        },
        {
          "name": "stdout",
          "output_type": "stream",
          "text": [
            "✅ 저장 완료: batch 25 → /content/drive/MyDrive/Deepvoice_Detection_Dataset/train_aug/train_data_batch_25.npy (2000개 샘플)\n"
          ]
        },
        {
          "name": "stderr",
          "output_type": "stream",
          "text": [
            "🔄 train mel 생성:  70%|██████▉   | 54000/77293 [3:03:14<15:10:30,  2.35s/it]"
          ]
        },
        {
          "name": "stdout",
          "output_type": "stream",
          "text": [
            "✅ 저장 완료: batch 26 → /content/drive/MyDrive/Deepvoice_Detection_Dataset/train_aug/train_data_batch_26.npy (2000개 샘플)\n"
          ]
        },
        {
          "name": "stderr",
          "output_type": "stream",
          "text": [
            "🔄 train mel 생성:  72%|███████▏  | 56000/77293 [3:11:39<14:20:23,  2.42s/it]"
          ]
        },
        {
          "name": "stdout",
          "output_type": "stream",
          "text": [
            "✅ 저장 완료: batch 27 → /content/drive/MyDrive/Deepvoice_Detection_Dataset/train_aug/train_data_batch_27.npy (2000개 샘플)\n"
          ]
        },
        {
          "name": "stderr",
          "output_type": "stream",
          "text": [
            "🔄 train mel 생성:  75%|███████▌  | 58000/77293 [3:20:08<13:15:20,  2.47s/it]"
          ]
        },
        {
          "name": "stdout",
          "output_type": "stream",
          "text": [
            "✅ 저장 완료: batch 28 → /content/drive/MyDrive/Deepvoice_Detection_Dataset/train_aug/train_data_batch_28.npy (2000개 샘플)\n"
          ]
        },
        {
          "name": "stderr",
          "output_type": "stream",
          "text": [
            "🔄 train mel 생성:  78%|███████▊  | 60000/77293 [3:28:36<12:03:53,  2.51s/it]"
          ]
        },
        {
          "name": "stdout",
          "output_type": "stream",
          "text": [
            "✅ 저장 완료: batch 29 → /content/drive/MyDrive/Deepvoice_Detection_Dataset/train_aug/train_data_batch_29.npy (2000개 샘플)\n"
          ]
        },
        {
          "name": "stderr",
          "output_type": "stream",
          "text": [
            "🔄 train mel 생성:  80%|████████  | 62000/77293 [3:37:05<10:25:39,  2.45s/it]"
          ]
        },
        {
          "name": "stdout",
          "output_type": "stream",
          "text": [
            "✅ 저장 완료: batch 30 → /content/drive/MyDrive/Deepvoice_Detection_Dataset/train_aug/train_data_batch_30.npy (2000개 샘플)\n"
          ]
        },
        {
          "name": "stderr",
          "output_type": "stream",
          "text": [
            "🔄 train mel 생성:  83%|████████▎ | 64000/77293 [3:45:35<9:23:02,  2.54s/it]"
          ]
        },
        {
          "name": "stdout",
          "output_type": "stream",
          "text": [
            "✅ 저장 완료: batch 31 → /content/drive/MyDrive/Deepvoice_Detection_Dataset/train_aug/train_data_batch_31.npy (2000개 샘플)\n"
          ]
        },
        {
          "name": "stderr",
          "output_type": "stream",
          "text": [
            "🔄 train mel 생성:  85%|████████▌ | 66000/77293 [3:54:02<7:35:48,  2.42s/it]"
          ]
        },
        {
          "name": "stdout",
          "output_type": "stream",
          "text": [
            "✅ 저장 완료: batch 32 → /content/drive/MyDrive/Deepvoice_Detection_Dataset/train_aug/train_data_batch_32.npy (2000개 샘플)\n"
          ]
        },
        {
          "name": "stderr",
          "output_type": "stream",
          "text": [
            "🔄 train mel 생성:  88%|████████▊ | 68000/77293 [4:02:29<6:41:01,  2.59s/it]"
          ]
        },
        {
          "name": "stdout",
          "output_type": "stream",
          "text": [
            "✅ 저장 완료: batch 33 → /content/drive/MyDrive/Deepvoice_Detection_Dataset/train_aug/train_data_batch_33.npy (2000개 샘플)\n"
          ]
        },
        {
          "name": "stderr",
          "output_type": "stream",
          "text": [
            "🔄 train mel 생성:  91%|█████████ | 70000/77293 [4:10:59<5:00:12,  2.47s/it]"
          ]
        },
        {
          "name": "stdout",
          "output_type": "stream",
          "text": [
            "✅ 저장 완료: batch 34 → /content/drive/MyDrive/Deepvoice_Detection_Dataset/train_aug/train_data_batch_34.npy (2000개 샘플)\n"
          ]
        },
        {
          "name": "stderr",
          "output_type": "stream",
          "text": [
            "🔄 train mel 생성:  93%|█████████▎| 72000/77293 [4:19:26<3:33:14,  2.42s/it]"
          ]
        },
        {
          "name": "stdout",
          "output_type": "stream",
          "text": [
            "✅ 저장 완료: batch 35 → /content/drive/MyDrive/Deepvoice_Detection_Dataset/train_aug/train_data_batch_35.npy (2000개 샘플)\n"
          ]
        },
        {
          "name": "stderr",
          "output_type": "stream",
          "text": [
            "🔄 train mel 생성:  96%|█████████▌| 74000/77293 [4:27:55<2:14:36,  2.45s/it]"
          ]
        },
        {
          "name": "stdout",
          "output_type": "stream",
          "text": [
            "✅ 저장 완료: batch 36 → /content/drive/MyDrive/Deepvoice_Detection_Dataset/train_aug/train_data_batch_36.npy (2000개 샘플)\n"
          ]
        },
        {
          "name": "stderr",
          "output_type": "stream",
          "text": [
            "🔄 train mel 생성:  98%|█████████▊| 76000/77293 [4:36:21<53:52,  2.50s/it]"
          ]
        },
        {
          "name": "stdout",
          "output_type": "stream",
          "text": [
            "✅ 저장 완료: batch 37 → /content/drive/MyDrive/Deepvoice_Detection_Dataset/train_aug/train_data_batch_37.npy (2000개 샘플)\n"
          ]
        },
        {
          "name": "stderr",
          "output_type": "stream",
          "text": [
            "🔄 train mel 생성: 100%|██████████| 77293/77293 [4:41:49<00:00,  4.57it/s]\n"
          ]
        },
        {
          "name": "stdout",
          "output_type": "stream",
          "text": [
            "✅ 마지막 저장 완료: batch 38 → /content/drive/MyDrive/Deepvoice_Detection_Dataset/train_aug/train_data_batch_38.npy (1293개 샘플)\n"
          ]
        }
      ],
      "source": [
        "# Step 3. 데이터 전처리\n",
        "# > Mel-spectrogram 변환 및 저장\n",
        "\n",
        "mel_list, label_list = [], []\n",
        "batch_size = 2000\n",
        "batch_idx = 0\n",
        "save_dir = '/content/drive/MyDrive/Deepvoice_Detection_Dataset/train_aug'\n",
        "os.makedirs(save_dir, exist_ok=True)\n",
        "\n",
        "for idx, row in tqdm(train_df.iterrows(), total=len(train_df), desc=\"🔄 train mel 생성\"):\n",
        "    try:\n",
        "        path = row['file_path']\n",
        "        label = row['label_binary']\n",
        "\n",
        "        if label == 0:  # bonafide → 증강\n",
        "            waveform = augment_waveform(path)\n",
        "        else:\n",
        "            waveform, _ = torchaudio.load(path)\n",
        "\n",
        "        mel = extract_mel_from_waveform(waveform)\n",
        "        mel_list.append(mel)\n",
        "        label_list.append(label)\n",
        "\n",
        "    except Exception as e:\n",
        "        print(f\"⚠️ {path}: {e}\")\n",
        "        continue\n",
        "\n",
        "    if len(mel_list) >= batch_size:\n",
        "      data_path = os.path.join(save_dir, f'train_data_batch_{batch_idx}.npy')\n",
        "      label_path = os.path.join(save_dir, f'train_labels_batch_{batch_idx}.npy')\n",
        "\n",
        "      np.save(data_path, np.stack(mel_list))\n",
        "      np.save(label_path, np.array(label_list))\n",
        "\n",
        "      print(f\"✅ 저장 완료: batch {batch_idx} → {data_path} ({len(mel_list)}개 샘플)\")\n",
        "\n",
        "      mel_list, label_list = [], []\n",
        "      batch_idx += 1\n",
        "\n",
        "\n",
        "# 마지막 저장\n",
        "if mel_list:\n",
        "    data_path = os.path.join(save_dir, f'train_data_batch_{batch_idx}.npy')\n",
        "    label_path = os.path.join(save_dir, f'train_labels_batch_{batch_idx}.npy')\n",
        "\n",
        "    np.save(data_path, np.stack(mel_list))\n",
        "    np.save(label_path, np.array(label_list))\n",
        "\n",
        "    print(f\"✅ 마지막 저장 완료: batch {batch_idx} → {data_path} ({len(mel_list)}개 샘플)\")\n",
        "\n"
      ]
    },
    {
      "cell_type": "code",
      "execution_count": null,
      "metadata": {
        "id": "MpneFry0FUfC"
      },
      "outputs": [],
      "source": [
        "# 데이터셋 불러오기\n",
        "\n",
        "class LazyMelDataset(Dataset):\n",
        "    def __init__(self, data_dir, prefix='train'):\n",
        "        self.data_dir = data_dir\n",
        "        self.prefix = prefix\n",
        "        self.data_paths = sorted([\n",
        "            os.path.join(data_dir, f) for f in os.listdir(data_dir)\n",
        "            if f.startswith(f'{self.prefix}_data')\n",
        "        ])\n",
        "        self.label_paths = sorted([\n",
        "            os.path.join(data_dir, f) for f in os.listdir(data_dir)\n",
        "            if f.startswith(f'{self.prefix}_labels')\n",
        "        ])\n",
        "        self.index_map = self._create_index_map()\n",
        "\n",
        "    def _create_index_map(self):\n",
        "        index_map = []\n",
        "        for batch_idx, data_path in enumerate(self.data_paths):\n",
        "            data = np.load(data_path, mmap_mode='r')\n",
        "            if len(data) == 0:\n",
        "                print(f\"⚠️ Skipping empty batch: {data_path}\")\n",
        "                continue\n",
        "            for i in range(len(data)):\n",
        "                index_map.append((batch_idx, i))\n",
        "        return index_map\n",
        "\n",
        "    def __len__(self):\n",
        "        return len(self.index_map)\n",
        "\n",
        "    def __getitem__(self, idx):\n",
        "        batch_idx, item_idx = self.index_map[idx]\n",
        "        mel = np.load(self.data_paths[batch_idx], mmap_mode='r')[item_idx]\n",
        "        label = np.load(self.label_paths[batch_idx], mmap_mode='r')[item_idx]\n",
        "        mel_tensor = torch.tensor(mel, dtype=torch.float32).unsqueeze(0)\n",
        "        label_tensor = torch.tensor(label, dtype=torch.float32)\n",
        "        return mel_tensor, label_tensor\n"
      ]
    },
    {
      "cell_type": "code",
      "execution_count": null,
      "metadata": {
        "id": "fUBmMtnsIDjj"
      },
      "outputs": [],
      "source": [
        "# 학습 모델 정의\n",
        "# CNN + Bi-GRU + Attention\n",
        "\n",
        "# Attention 블록 정의\n",
        "class Attention(nn.Module):\n",
        "    def __init__(self, input_dim):\n",
        "        super(Attention, self).__init__()\n",
        "        self.query = nn.Linear(input_dim, input_dim)\n",
        "        self.key = nn.Linear(input_dim, input_dim)\n",
        "        self.value = nn.Linear(input_dim, input_dim)\n",
        "        self.softmax = nn.Softmax(dim=-1)\n",
        "\n",
        "    def forward(self, x):  # x: (B, T, D)\n",
        "        Q = self.query(x)\n",
        "        K = self.key(x)\n",
        "        V = self.value(x)\n",
        "        attn_weights = self.softmax(torch.bmm(Q, K.transpose(1, 2)) / (Q.size(-1) ** 0.5))\n",
        "        out = torch.bmm(attn_weights, V)  # (B, T, D)\n",
        "        return out.mean(dim=1)  # (B, D)\n",
        "\n",
        "# DeepVoiceDetector with automatic GRU input size inference\n",
        "class DeepVoiceDetector(nn.Module):\n",
        "    def __init__(self, input_channels=1, hidden_size=128, sample_input_shape=(1, 400, 80)):\n",
        "        super(DeepVoiceDetector, self).__init__()\n",
        "\n",
        "        self.cnn = nn.Sequential(\n",
        "            nn.Conv2d(input_channels, 32, kernel_size=3, stride=1, padding=1),\n",
        "            nn.BatchNorm2d(32), nn.ReLU(), nn.MaxPool2d(2),\n",
        "            nn.Conv2d(32, 64, kernel_size=3, stride=1, padding=1),\n",
        "            nn.BatchNorm2d(64), nn.ReLU(), nn.MaxPool2d(2),\n",
        "            nn.Conv2d(64, 128, kernel_size=3, stride=1, padding=1),\n",
        "            nn.BatchNorm2d(128), nn.ReLU(), nn.MaxPool2d(2)\n",
        "        )\n",
        "        self.dropout = nn.Dropout(0.3)\n",
        "\n",
        "        # GRU 입력 크기 자동 추론\n",
        "        with torch.no_grad():\n",
        "            dummy_input = torch.zeros((1, input_channels, *sample_input_shape[1:]))  # (1, 1, 400, 80)\n",
        "            cnn_out = self.cnn(dummy_input)  # (1, 128, T', F') 예상\n",
        "            print(\"CNN output shape:\", cnn_out.shape)\n",
        "            _, c, t, f = cnn_out.shape\n",
        "            self.rnn_input_dim = c * f\n",
        "            self.rnn_time_steps = t\n",
        "\n",
        "        self.gru = nn.GRU(input_size=self.rnn_input_dim, hidden_size=hidden_size, batch_first=True, bidirectional=True)\n",
        "        self.attn = Attention(input_dim=hidden_size * 2)\n",
        "        self.fc = nn.Linear(hidden_size * 2, 1)\n",
        "\n",
        "    def forward(self, x):  # x: (B, 1, 400, 80)\n",
        "      batch_size = x.size(0)\n",
        "      x = self.cnn(x)                    # (B, 128, 50, 10)\n",
        "      x = self.dropout(x)\n",
        "      x = x.permute(0, 2, 1, 3)          # (B, 50, 128, 10)\n",
        "      x = x.reshape(batch_size, 50, -1)  # (B, 50, 1280)\n",
        "      out, _ = self.gru(x)               # (B, 50, 256)\n",
        "      out = self.attn(out)               # (B, 256)\n",
        "      out = self.fc(out).squeeze(1)      # (B,)\n",
        "      return out\n",
        "\n",
        "\n"
      ]
    },
    {
      "cell_type": "code",
      "execution_count": null,
      "metadata": {
        "id": "XdU_NbD3FO9m"
      },
      "outputs": [],
      "source": [
        "# DataLoader 정의하기\n",
        "\n",
        "dataset = LazyMelDataset('/content/drive/MyDrive/Deepvoice_Detection_Dataset/train_aug')\n",
        "\n",
        "train_len = int(0.8 * len(dataset))\n",
        "val_len = len(dataset) - train_len\n",
        "train_dataset, val_dataset = random_split(dataset, [train_len, val_len])\n",
        "\n",
        "train_loader = DataLoader(train_dataset, batch_size=32, shuffle=True)\n",
        "val_loader = DataLoader(val_dataset, batch_size=32, shuffle=False)\n"
      ]
    },
    {
      "cell_type": "code",
      "execution_count": null,
      "metadata": {
        "colab": {
          "base_uri": "https://localhost:8080/"
        },
        "id": "2aAdWR-dFgJc",
        "outputId": "dabc1ea0-ba99-40e2-97e6-fb5b5952c165"
      },
      "outputs": [
        {
          "output_type": "stream",
          "name": "stdout",
          "text": [
            "CNN output shape: torch.Size([1, 128, 50, 10])\n"
          ]
        }
      ],
      "source": [
        "# 모델 선언 및 학습 환경 구성\n",
        "\n",
        "model = model = DeepVoiceDetector(input_channels=1, hidden_size=128, sample_input_shape=(1, 400, 80)).to(device)\n",
        "\n",
        "criterion = nn.BCEWithLogitsLoss()\n",
        "optimizer = torch.optim.Adam(model.parameters(), lr=1e-4)\n"
      ]
    },
    {
      "cell_type": "code",
      "execution_count": null,
      "metadata": {
        "id": "QwNYibNXH5kk"
      },
      "outputs": [],
      "source": [
        "def compute_f1(preds, targets, threshold=0.5):\n",
        "    pred_labels = (np.array(preds) > threshold).astype(int)\n",
        "    return f1_score(targets, pred_labels)"
      ]
    },
    {
      "cell_type": "code",
      "execution_count": null,
      "metadata": {
        "colab": {
          "base_uri": "https://localhost:8080/"
        },
        "id": "NrOdDDL7HEpf",
        "outputId": "10fa5455-d721-4a3e-b092-54a59c58c631"
      },
      "outputs": [
        {
          "metadata": {
            "tags": null
          },
          "name": "stdout",
          "output_type": "stream",
          "text": [
            "📥 체크포인트 로드 중...\n",
            "🔁 13 epoch부터 재시작 (최고 F1: 0.9998)\n",
            "\n",
            "🔁 Epoch 14/20\n"
          ]
        },
        {
          "metadata": {
            "tags": null
          },
          "name": "stderr",
          "output_type": "stream",
          "text": [
            ""
          ]
        },
        {
          "metadata": {
            "tags": null
          },
          "name": "stdout",
          "output_type": "stream",
          "text": [
            "📊 Epoch 14 | Train Loss: 0.0023 | Val Loss: 0.0001 | F1-score: 1.0000\n",
            "✅ 모델 저장됨 (F1 갱신: 1.0000)\n",
            "\n",
            "🔁 Epoch 15/20\n"
          ]
        },
        {
          "metadata": {
            "tags": null
          },
          "name": "stderr",
          "output_type": "stream",
          "text": [
            ""
          ]
        },
        {
          "metadata": {
            "tags": null
          },
          "name": "stdout",
          "output_type": "stream",
          "text": [
            "📊 Epoch 15 | Train Loss: 0.0018 | Val Loss: 0.0009 | F1-score: 0.9997\n",
            "\n",
            "🔁 Epoch 16/20\n"
          ]
        },
        {
          "output_type": "stream",
          "name": "stderr",
          "text": []
        },
        {
          "output_type": "stream",
          "name": "stdout",
          "text": [
            "📊 Epoch 16 | Train Loss: 0.0025 | Val Loss: 0.0015 | F1-score: 0.9998\n",
            "\n",
            "🔁 Epoch 17/20\n"
          ]
        },
        {
          "output_type": "stream",
          "name": "stderr",
          "text": [
            "🔧 Training:  37%|███▋      | 708/1933 [46:45<1:21:52,  4.01s/it, loss=0.0574]"
          ]
        }
      ],
      "source": [
        "# Step 4. 모델 학습\n",
        "\n",
        "best_f1 = 0.0\n",
        "EPOCHS = 20\n",
        "\n",
        "checkpoint_path = os.path.join(base_path, 'deepvoice_checkpoint.pt')\n",
        "start_epoch = 0\n",
        "best_f1 = 0.0\n",
        "\n",
        "if os.path.exists(checkpoint_path):\n",
        "    print(\"📥 체크포인트 로드 중...\")\n",
        "    checkpoint = torch.load(checkpoint_path, map_location=device)\n",
        "    model.load_state_dict(checkpoint['model_state_dict'])\n",
        "    optimizer.load_state_dict(checkpoint['optimizer_state_dict'])\n",
        "    start_epoch = checkpoint['epoch'] + 1\n",
        "    best_f1 = checkpoint['best_f1']\n",
        "    print(f\"🔁 {start_epoch} epoch부터 재시작 (최고 F1: {best_f1:.4f})\")\n",
        "\n",
        "for epoch in range(start_epoch, EPOCHS):\n",
        "    print(f\"\\n🔁 Epoch {epoch+1}/{EPOCHS}\")\n",
        "\n",
        "    # Training loop\n",
        "    model.train()\n",
        "    train_loss = 0.0\n",
        "    train_bar = tqdm(train_loader, desc=\"🔧 Training\", leave=False)\n",
        "    for mel, label in train_bar:\n",
        "        mel, label = mel.to(device), label.to(device)\n",
        "        optimizer.zero_grad()\n",
        "        output = model(mel)\n",
        "        loss = criterion(output, label)\n",
        "        loss.backward()\n",
        "        optimizer.step()\n",
        "        train_loss += loss.item() * mel.size(0)\n",
        "        train_bar.set_postfix(loss=loss.item())\n",
        "    avg_train_loss = train_loss / len(train_loader.dataset)\n",
        "\n",
        "    # Validation loop\n",
        "    model.eval()\n",
        "    val_loss = 0.0\n",
        "    preds, targets = [], []\n",
        "    val_bar = tqdm(val_loader, desc=\"🧪 Validation\", leave=False)\n",
        "    with torch.no_grad():\n",
        "        for mel, label in val_bar:\n",
        "            mel, label = mel.to(device), label.to(device)\n",
        "            output = model(mel)\n",
        "            loss = criterion(output, label)\n",
        "            val_loss += loss.item() * mel.size(0)\n",
        "            preds.extend(torch.sigmoid(output).cpu().numpy())\n",
        "            targets.extend(label.cpu().numpy())\n",
        "            val_bar.set_postfix(loss=loss.item())\n",
        "    avg_val_loss = val_loss / len(val_loader.dataset)\n",
        "    f1 = compute_f1(preds, targets)\n",
        "\n",
        "    print(f\"📊 Epoch {epoch+1} | Train Loss: {avg_train_loss:.4f} | Val Loss: {avg_val_loss:.4f} | F1-score: {f1:.4f}\")\n",
        "\n",
        "    # 📌 모델 매 epoch마다 저장\n",
        "    torch.save({\n",
        "        'model_state_dict': model.state_dict(),\n",
        "        'optimizer_state_dict': optimizer.state_dict(),\n",
        "        'epoch': epoch,\n",
        "        'best_f1': best_f1\n",
        "    }, checkpoint_path)\n",
        "\n",
        "    # 📌 최고 성능 모델도 별도로 저장\n",
        "    if f1 > best_f1:\n",
        "        best_f1 = f1\n",
        "        torch.save(model.state_dict(), os.path.join(base_path, 'deepvoice_best.pt'))\n",
        "        print(f\"✅ 모델 저장됨 (F1 갱신: {best_f1:.4f})\")\n"
      ]
    },
    {
      "cell_type": "code",
      "source": [
        "# Step 5. 학습된 모델 평가 준비\n",
        "# > 사용자 정의 평가용 프로토콜 불러오기\n",
        "test_protocol_path = os.path.join(base_path, 'ASVspoof2019_LA_cm_protocols', 'custom_protocol_test.txt')\n",
        "\n",
        "test_df = pd.read_csv(\n",
        "    test_protocol_path,\n",
        "    sep='\\s+',\n",
        "    header=None,\n",
        "    names=['speaker_id', 'file_id', 'system_id', 'attack_type', 'label']\n",
        ")\n",
        "\n",
        "# 라벨 숫자로 변환\n",
        "test_df['label_binary'] = test_df['label'].map({'bonafide': 0, 'spoof': 1})\n",
        "\n",
        "# flac 파일 경로 검색\n",
        "test_df['file_path'] = test_df['file_id'].apply(find_flac_path)\n",
        "test_df = test_df[test_df['file_path'].notnull()]\n",
        "print(f\"📁 유효한 평가 데이터 수: {len(test_df)}\")\n"
      ],
      "metadata": {
        "colab": {
          "base_uri": "https://localhost:8080/"
        },
        "id": "Xpmk6jc4PVY-",
        "outputId": "37bd4cb2-f702-4a85-9b91-1745e3bdb7ca"
      },
      "execution_count": null,
      "outputs": [
        {
          "output_type": "stream",
          "name": "stdout",
          "text": [
            "📁 유효한 평가 데이터 수: 19324\n"
          ]
        }
      ]
    },
    {
      "cell_type": "code",
      "source": [
        "# 평가용 오디오 파일들 Mel-spectrogram 변환\n",
        "\n",
        "mel_list, label_list = [], []\n",
        "batch_size = 2000\n",
        "batch_idx = 0\n",
        "save_dir = '/content/drive/MyDrive/Deepvoice_Detection_Dataset/test_processed'\n",
        "os.makedirs(save_dir, exist_ok=True)\n",
        "\n",
        "for idx, row in tqdm(test_df.iterrows(), total=len(test_df), desc=\"🧪 test mel 생성\"):\n",
        "    try:\n",
        "        path = row['file_path']\n",
        "        label = row['label_binary']\n",
        "        waveform, _ = torchaudio.load(path)\n",
        "        mel = extract_mel_from_waveform(waveform)\n",
        "        mel_list.append(mel)\n",
        "        label_list.append(label)\n",
        "    except Exception as e:\n",
        "        print(f\"⚠️ {path}: {e}\")\n",
        "        continue\n",
        "\n",
        "    if len(mel_list) >= batch_size:\n",
        "        data_path = os.path.join(save_dir, f'test_data_batch_{batch_idx}.npy')\n",
        "        label_path = os.path.join(save_dir, f'test_labels_batch_{batch_idx}.npy')\n",
        "        np.save(data_path, np.stack(mel_list))\n",
        "        np.save(label_path, np.array(label_list))\n",
        "        mel_list, label_list = [], []\n",
        "        batch_idx += 1\n",
        "\n",
        "# 마지막 배치 저장\n",
        "if mel_list:\n",
        "    data_path = os.path.join(save_dir, f'test_data_batch_{batch_idx}.npy')\n",
        "    label_path = os.path.join(save_dir, f'test_labels_batch_{batch_idx}.npy')\n",
        "    np.save(data_path, np.stack(mel_list))\n",
        "    np.save(label_path, np.array(label_list))\n"
      ],
      "metadata": {
        "colab": {
          "base_uri": "https://localhost:8080/"
        },
        "id": "_56C7OxMPdFa",
        "outputId": "4feb37eb-7ec8-43c1-8136-4035d966d90d"
      },
      "execution_count": null,
      "outputs": [
        {
          "output_type": "stream",
          "name": "stderr",
          "text": [
            "🧪 test mel 생성: 100%|██████████| 19324/19324 [2:09:56<00:00,  2.48it/s]\n"
          ]
        }
      ]
    },
    {
      "cell_type": "code",
      "source": [
        "# LazyMelDataSet 평가용으로 로딩\n",
        "\n",
        "test_dataset = LazyMelDataset('/content/drive/MyDrive/Deepvoice_Detection_Dataset/test_processed', prefix='test')\n",
        "test_loader = DataLoader(test_dataset, batch_size=32, shuffle=False)\n",
        "\n",
        "print(f\"📦 test dataset 크기: {len(test_loader.dataset)}\")"
      ],
      "metadata": {
        "colab": {
          "base_uri": "https://localhost:8080/"
        },
        "id": "AZhAnD-fPkrK",
        "outputId": "46efcf00-c13d-4ea6-d7bb-07d1cd1eee50"
      },
      "execution_count": null,
      "outputs": [
        {
          "output_type": "stream",
          "name": "stdout",
          "text": [
            "📦 test dataset 크기: 19324\n"
          ]
        }
      ]
    },
    {
      "cell_type": "code",
      "source": [
        "# Step 6. 학습된 모델 평가\n",
        "\n",
        "all_preds, all_labels = [], []\n",
        "\n",
        "model = DeepVoiceDetector().to(device)\n",
        "model.load_state_dict(torch.load(os.path.join(base_path, 'deepvoice_best.pt'), map_location=device))\n",
        "model.eval()\n",
        "\n",
        "with torch.no_grad():\n",
        "    for mel, label in tqdm(test_loader, desc=\"🧪 Test Evaluation\"):\n",
        "      mel, label = mel.to(device), label.to(device)\n",
        "      output = model(mel)\n",
        "      probs = torch.sigmoid(output)\n",
        "      all_preds.extend(probs.cpu().numpy())\n",
        "      all_labels.extend(label.cpu().numpy())\n",
        "\n",
        "# numpy 변환\n",
        "true_labels = np.array(all_labels)\n",
        "pred_probs = np.array(all_preds)\n",
        "pred_binary = (pred_probs > 0.5).astype(int)\n",
        "\n",
        "# 🧪 0. 샘플이 없을 경우 종료\n",
        "if len(true_labels) == 0:\n",
        "    print(\"❌ 평가할 샘플이 없습니다.\")\n",
        "else:\n",
        "    # 1. 분포 출력\n",
        "    print(\"✅ 고유 예측 라벨:\", np.unique(pred_binary, return_counts=True))\n",
        "    print(\"✅ 고유 실제 라벨:\", np.unique(true_labels, return_counts=True))\n",
        "\n",
        "    # 2. classification_report 출력 (zero_division=0으로 경고 억제)\n",
        "    print(\"\\n📋 Classification Report\")\n",
        "    print(classification_report(true_labels, pred_binary,\n",
        "                                target_names=['bonafide', 'spoof'],\n",
        "                                labels=[0, 1],\n",
        "                                zero_division=0))\n",
        "\n",
        "    # 3. 추가 지표 출력\n",
        "    try:\n",
        "        f1 = f1_score(true_labels, pred_binary, zero_division=0)\n",
        "        roc_auc = roc_auc_score(true_labels, pred_probs)\n",
        "        print(f\"🎯 F1-score: {f1:.4f}\")\n",
        "        print(f\"📈 ROC-AUC: {roc_auc:.4f}\")\n",
        "\n",
        "        # 4. Confusion Matrix 출력 및 시각화\n",
        "        cm = confusion_matrix(true_labels, pred_binary, labels=[0, 1])\n",
        "        disp = ConfusionMatrixDisplay(confusion_matrix=cm, display_labels=['bonafide', 'spoof'])\n",
        "\n",
        "        print(\"\\n📊 Confusion Matrix:\")\n",
        "        print(cm)\n",
        "\n",
        "        disp.plot(cmap='Blues')\n",
        "        plt.title(\"Confusion Matrix\")\n",
        "        plt.grid(False)\n",
        "        plt.show()\n",
        "\n",
        "    except ValueError as e:\n",
        "        print(f\"❗ ROC-AUC 계산 실패: {e}\")\n"
      ],
      "metadata": {
        "colab": {
          "base_uri": "https://localhost:8080/",
          "height": 858
        },
        "id": "rrywDNzuP_E2",
        "outputId": "0ddfc3bf-bf0c-4f7c-edf4-da6e440453e5"
      },
      "execution_count": null,
      "outputs": [
        {
          "metadata": {
            "tags": null
          },
          "name": "stdout",
          "output_type": "stream",
          "text": [
            "CNN output shape: torch.Size([1, 128, 50, 10])\n"
          ]
        },
        {
          "output_type": "stream",
          "name": "stderr",
          "text": [
            "🧪 Test Evaluation: 100%|██████████| 604/604 [16:24<00:00,  1.63s/it]\n"
          ]
        },
        {
          "output_type": "stream",
          "name": "stdout",
          "text": [
            "✅ 고유 예측 라벨: (array([0, 1]), array([ 1950, 17374]))\n",
            "✅ 고유 실제 라벨: (array([0., 1.], dtype=float32), array([ 1987, 17337]))\n",
            "\n",
            "📋 Classification Report\n",
            "              precision    recall  f1-score   support\n",
            "\n",
            "    bonafide       1.00      0.98      0.99      1987\n",
            "       spoof       1.00      1.00      1.00     17337\n",
            "\n",
            "    accuracy                           1.00     19324\n",
            "   macro avg       1.00      0.99      0.99     19324\n",
            "weighted avg       1.00      1.00      1.00     19324\n",
            "\n",
            "🎯 F1-score: 0.9989\n",
            "📈 ROC-AUC: 0.9997\n",
            "\n",
            "📊 Confusion Matrix:\n",
            "[[ 1949    38]\n",
            " [    1 17336]]\n"
          ]
        },
        {
          "output_type": "display_data",
          "data": {
            "text/plain": [
              "<Figure size 640x480 with 2 Axes>"
            ],
            "image/png": "[encoded data removed]"
          },
          "metadata": {}
        }
      ]
    }
  ],
  "metadata": {
    "colab": {
      "provenance": []
    },
    "kernelspec": {
      "display_name": "Python 3",
      "name": "python3"
    },
    "language_info": {
      "name": "python"
    }
  },
  "nbformat": 4,
  "nbformat_minor": 0
}